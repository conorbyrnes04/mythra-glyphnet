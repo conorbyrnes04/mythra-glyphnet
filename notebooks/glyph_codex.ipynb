{
 "cells": [
  {
   "cell_type": "code",
   "execution_count": 1,
   "metadata": {},
   "outputs": [],
   "source": [
    "import replicate, os, requests\n",
    "from dotenv import load_dotenv\n",
    "from IPython.display import display, Image\n",
    "from datetime import datetime\n",
    "from pathlib import Path\n",
    "\n",
    "# Load environment\n",
    "load_dotenv()\n",
    "os.environ[\"REPLICATE_API_TOKEN\"] = os.getenv(\"REPLICATE_API_TOKEN\")\n",
    "\n",
    "# Create output directory\n",
    "Path(\"results/glyphs\").mkdir(parents=True, exist_ok=True)\n"
   ]
  },
  {
   "cell_type": "code",
   "execution_count": 2,
   "metadata": {},
   "outputs": [],
   "source": [
    "from IPython.display import display, Image\n",
    "from datetime import datetime\n",
    "from pathlib import Path\n",
    "\n",
    "# Load environment\n",
    "load_dotenv()\n",
    "os.environ[\"REPLICATE_API_TOKEN\"] = os.getenv(\"REPLICATE_API_TOKEN\")\n",
    "\n",
    "# Create output directory\n",
    "Path(\"results/glyphs\").mkdir(parents=True, exist_ok=True)\n"
   ]
  },
  {
   "cell_type": "code",
   "execution_count": 12,
   "metadata": {},
   "outputs": [],
   "source": [
    "def generate_glyph(entity, element, emotion):\n",
    "    timestamp = datetime.now().strftime(\"%Y%m%d_%H%M%S\")\n",
    "    filename = f\"{entity.lower()}_{element.lower()}_{emotion.lower()}_{timestamp}.webp\"\n",
    "    filepath = f\"results/glyphs/{filename}\"\n",
    "\n",
    "    prompt = f\"\"\"\n",
    "    Create a [MYTHRA] glyph that expresses the essence of a dreamseed formed from:\n",
    "    - Entity: {entity}\n",
    "    - Element: {element}\n",
    "    - Emotion: {emotion}\n",
    "\n",
    "    This [MYTHRA] glyph should:\n",
    "\n",
    "– Etch the {entity} in radiant shimmering metallic ink on a black background  \n",
    "– Use precise, clean, resonant linework, like sacred geometry or trance-drawn calligraphy to represent the {entity}\n",
    "– Emanate archetypal power: spirals, radial symmetry, elemental flow, symbolic portals  \n",
    "– Evoke the spirit of ancient sigils, cave carvings, tantric yantras, and celestial inscriptions  \n",
    "– Glow softly, as if illuminated from within by the energy of {emotion} and the movement of {element}  \n",
    "– Serve as a living symbol: both map and magnet for transformation  \n",
    "– A glyph worthy of being painted on the body, engraved on stone, or projected into dreamspace\n",
    "    \"\"\"\n",
    "\n",
    "    output = replicate.run(\n",
    "        \"conorbyrnes04/matrka_glyph_1:bce3b7b3017a5ad64f2b43c8bdaec606a4f64e8a5e0671243a9f53e9c37a7e75\",\n",
    "        input={\n",
    "            \"prompt\": prompt,\n",
    "            \"model\": \"dev\",\n",
    "            \"go_fast\": False,\n",
    "            \"lora_scale\": 1,\n",
    "            \"megapixels\": \"1\",\n",
    "            \"num_outputs\": 1,\n",
    "            \"aspect_ratio\": \"1:1\",\n",
    "            \"output_format\": \"webp\",\n",
    "            \"guidance_scale\": 3,\n",
    "            \"output_quality\": 80,\n",
    "            \"prompt_strength\": 0.8,\n",
    "            \"extra_lora_scale\": 1,\n",
    "            \"num_inference_steps\": 28\n",
    "        }\n",
    "    )\n",
    "\n",
    "    img_url = output[0]\n",
    "    img_data = requests.get(img_url).content\n",
    "\n",
    "    with open(filepath, \"wb\") as f:\n",
    "        f.write(img_data)\n",
    "\n",
    "    print(f\"🌱 Saved glyph to: {filepath}\")\n",
    "    display(Image(filename=filepath))\n",
    "    return filepath\n"
   ]
  },
  {
   "cell_type": "code",
   "execution_count": 4,
   "metadata": {},
   "outputs": [
    {
     "name": "stdout",
     "output_type": "stream",
     "text": [
      "🔑 Token ends with: 3MVIha\n"
     ]
    }
   ],
   "source": [
    "print(\"🔑 Token ends with:\", os.environ[\"REPLICATE_API_TOKEN\"][-6:])\n"
   ]
  },
  {
   "cell_type": "code",
   "execution_count": 14,
   "metadata": {},
   "outputs": [
    {
     "name": "stdout",
     "output_type": "stream",
     "text": [
      "🌱 Saved glyph to: results/glyphs/lobster_fire_joy_20250717_173002.webp\n"
     ]
    },
    {
     "data": {
      "image/webp": "[encoded data removed]",
      "text/plain": [
       "<IPython.core.display.Image object>"
      ]
     },
     "metadata": {},
     "output_type": "display_data"
    },
    {
     "data": {
      "text/plain": [
       "'results/glyphs/lobster_fire_joy_20250717_173002.webp'"
      ]
     },
     "execution_count": 14,
     "metadata": {},
     "output_type": "execute_result"
    }
   ],
   "source": [
    "# Change inputs to test different symbolic combinations\n",
    "generate_glyph(\"Lobster\", \"Fire\", \"Joy\")\n"
   ]
  },
  {
   "cell_type": "code",
   "execution_count": null,
   "metadata": {},
   "outputs": [],
   "source": [
    "def view_codex():\n",
    "    glyph_dir = Path(\"results/glyphs\")\n",
    "    images = sorted(glyph_dir.glob(\"*.webp\"))\n",
    "\n",
    "    html = \"<h2>🌀 MYTHRA Glyph Codex</h2><div style='display:flex;flex-wrap:wrap;'>\"\n",
    "    for img in images:\n",
    "        html += f\"<div style='margin:10px;text-align:center;'><img src='{img}' width='160'><br><small>{img.stem}</small></div>\"\n",
    "    html += \"</div>\"\n",
    "\n",
    "    display(HTML(html))\n",
    "\n",
    "# Call to display gallery\n",
    "view_codex()\n"
   ]
  }
 ],
 "metadata": {
  "kernelspec": {
   "display_name": "Python 3",
   "language": "python",
   "name": "python3"
  },
  "language_info": {
   "codemirror_mode": {
    "name": "ipython",
    "version": 3
   },
   "file_extension": ".py",
   "mimetype": "text/x-python",
   "name": "python",
   "nbconvert_exporter": "python",
   "pygments_lexer": "ipython3",
   "version": "3.11.0"
  }
 },
 "nbformat": 4,
 "nbformat_minor": 2
}
